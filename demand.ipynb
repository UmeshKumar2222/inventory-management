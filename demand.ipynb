{
 "cells": [
  {
   "cell_type": "code",
   "execution_count": 11,
   "metadata": {},
   "outputs": [],
   "source": [
    "# import pandas as pd\n",
    "# import numpy as np\n",
    "\n",
    "# # Parameters for the dataset\n",
    "# num_records = 100  # Total number of sales records\n",
    "# num_products = 10  # Total number of unique products\n",
    "\n",
    "# # Generate product IDs\n",
    "# product_ids = [f'P{i+1}' for i in range(num_products)]\n",
    "\n",
    "# # Generate a date range for sales (e.g., the last 30 days)\n",
    "# sale_dates = pd.date_range(end=pd.Timestamp.today(), periods=num_records)\n",
    "\n",
    "# # Generate current stock levels (randomly between 20 and 100 for each product)\n",
    "# current_stock = np.random.randint(20, 100, size=num_products)\n",
    "\n",
    "# # Generate sales data\n",
    "# sales_data = {\n",
    "#     'product_id': np.random.choice(product_ids, size=num_records),\n",
    "#     'sale_date': np.random.choice(sale_dates, size=num_records),\n",
    "#     'sale_quantity': np.random.randint(1, 10, size=num_records)  # Random quantity between 1 and 10\n",
    "# }\n",
    "\n",
    "# # Create a DataFrame\n",
    "# df_sales = pd.DataFrame(sales_data)\n",
    "\n",
    "# # Calculate current stock after sales\n",
    "# df_sales['current_stock'] = df_sales['product_id'].map(lambda x: current_stock[int(x[1:])-1]) - df_sales['sale_quantity']\n",
    "\n",
    "# # Display the DataFrame\n",
    "# print(df_sales)\n"
   ]
  },
  {
   "cell_type": "code",
   "execution_count": 20,
   "metadata": {},
   "outputs": [
    {
     "name": "stdout",
     "output_type": "stream",
     "text": [
      "<class 'pandas.core.frame.DataFrame'>\n",
      "RangeIndex: 500 entries, 0 to 499\n",
      "Data columns (total 7 columns):\n",
      " #   Column       Non-Null Count  Dtype \n",
      "---  ------       --------------  ----- \n",
      " 0   Sale_ID      500 non-null    object\n",
      " 1   Store_ID     500 non-null    int64 \n",
      " 2   Product_ID   500 non-null    object\n",
      " 3   Customer_ID  500 non-null    object\n",
      " 4   Quantity     500 non-null    int64 \n",
      " 5   Sale_Date    500 non-null    object\n",
      " 6   Sale_Amount  500 non-null    int64 \n",
      "dtypes: int64(3), object(4)\n",
      "memory usage: 27.5+ KB\n"
     ]
    }
   ],
   "source": [
    "import pandas as pd\n",
    "import numpy as np\n",
    "\n",
    "# Assuming df_sales is the DataFrame we generated earlier\n",
    "df_sales = pd.read_csv(\"C:\\storage\\Internship\\Inventory\\dummy_data\\dummy_data\\sales_data.csv\")\n",
    "df_sales.head()\n"
   ]
  },
  {
   "cell_type": "code",
   "execution_count": 28,
   "metadata": {},
   "outputs": [],
   "source": [
    "df_sales['Sale_Date'] = pd.to_datetime(df_sales['Sale_Date'])"
   ]
  },
  {
   "cell_type": "code",
   "execution_count": 45,
   "metadata": {},
   "outputs": [
    {
     "data": {
      "text/plain": [
       "Timestamp('2024-12-30 00:00:00')"
      ]
     },
     "execution_count": 45,
     "metadata": {},
     "output_type": "execute_result"
    }
   ],
   "source": [
    "df_sales['Sale_Date'].max()"
   ]
  },
  {
   "cell_type": "code",
   "execution_count": 29,
   "metadata": {},
   "outputs": [
    {
     "name": "stdout",
     "output_type": "stream",
     "text": [
      "<class 'pandas.core.frame.DataFrame'>\n",
      "RangeIndex: 500 entries, 0 to 499\n",
      "Data columns (total 7 columns):\n",
      " #   Column       Non-Null Count  Dtype         \n",
      "---  ------       --------------  -----         \n",
      " 0   Sale_ID      500 non-null    object        \n",
      " 1   Store_ID     500 non-null    int64         \n",
      " 2   Product_ID   500 non-null    object        \n",
      " 3   Customer_ID  500 non-null    object        \n",
      " 4   Quantity     500 non-null    int64         \n",
      " 5   Sale_Date    500 non-null    datetime64[ns]\n",
      " 6   Sale_Amount  500 non-null    int64         \n",
      "dtypes: datetime64[ns](1), int64(3), object(3)\n",
      "memory usage: 27.5+ KB\n"
     ]
    }
   ],
   "source": [
    "df_sales.info()"
   ]
  },
  {
   "cell_type": "code",
   "execution_count": 37,
   "metadata": {},
   "outputs": [
    {
     "name": "stdout",
     "output_type": "stream",
     "text": [
      "     Product_ID  Sale_Date\n",
      "0          P003 2023-01-01\n",
      "1          P003 2023-01-02\n",
      "2          P003 2023-01-03\n",
      "3          P003 2023-01-04\n",
      "4          P003 2023-01-05\n",
      "...         ...        ...\n",
      "2915       P001 2024-12-26\n",
      "2916       P001 2024-12-27\n",
      "2917       P001 2024-12-28\n",
      "2918       P001 2024-12-29\n",
      "2919       P001 2024-12-30\n",
      "\n",
      "[2920 rows x 2 columns]\n",
      "  Product_ID  Sale_Date  Quantity\n",
      "0       P003 2023-01-01       1.0\n",
      "1       P003 2023-01-02       0.0\n",
      "2       P003 2023-01-03       0.0\n",
      "3       P003 2023-01-04       3.0\n",
      "4       P003 2023-01-05       5.0\n"
     ]
    }
   ],
   "source": [
    "\n",
    "\n",
    "# Aggregate sales data by product and sale date\n",
    "df_agg = df_sales.groupby(['Product_ID', 'Sale_Date']).agg({'Quantity': 'sum'}).reset_index()\n",
    "# print(df_agg.head())\n",
    "\n",
    "# Create a complete date range for each product\n",
    "Product_IDs = df_sales['Product_ID'].unique()\n",
    "# print(Product_IDs)\n",
    "all_dates = pd.date_range(start=df_agg['Sale_Date'].min(), end=df_agg['Sale_Date'].max())\n",
    "# print(all_dates)\n",
    "# Create a new DataFrame with all combinations of product IDs and dates\n",
    "product_date_index = pd.MultiIndex.from_product([Product_IDs, all_dates], names=['Product_ID', 'Sale_Date'])\n",
    "# print(product_date_index)\n",
    "df_complete = pd.DataFrame(index=product_date_index).reset_index()\n",
    "print(df_complete)\n",
    "\n",
    "# Merge with the aggregated sales data\n",
    "df_forecast = pd.merge(df_complete, df_agg, on=['Product_ID', 'Sale_Date'], how='left').fillna(0)\n",
    "\n",
    "# Display the forecast DataFrame\n",
    "print(df_forecast.head())\n"
   ]
  },
  {
   "cell_type": "code",
   "execution_count": 38,
   "metadata": {},
   "outputs": [
    {
     "name": "stdout",
     "output_type": "stream",
     "text": [
      "   Product_ID  Sale_Date  Quantity  moving_average\n",
      "0        P003 2023-01-01       1.0        1.000000\n",
      "1        P003 2023-01-02       0.0        0.500000\n",
      "2        P003 2023-01-03       0.0        0.333333\n",
      "3        P003 2023-01-04       3.0        1.000000\n",
      "4        P003 2023-01-05       5.0        1.800000\n",
      "5        P003 2023-01-06       0.0        1.500000\n",
      "6        P003 2023-01-07       0.0        1.285714\n",
      "7        P003 2023-01-08       0.0        1.142857\n",
      "8        P003 2023-01-09       4.0        1.714286\n",
      "9        P003 2023-01-10       1.0        1.857143\n",
      "10       P003 2023-01-11       0.0        1.428571\n",
      "11       P003 2023-01-12       0.0        0.714286\n",
      "12       P003 2023-01-13       0.0        0.714286\n",
      "13       P003 2023-01-14       0.0        0.714286\n",
      "14       P003 2023-01-15       0.0        0.714286\n"
     ]
    }
   ],
   "source": [
    "# Calculate a moving average for each product\n",
    "window_size = 7  # 7-day moving average\n",
    "df_forecast['moving_average'] = df_forecast.groupby('Product_ID')['Quantity'].transform(lambda x: x.rolling(window=window_size, min_periods=1).mean())\n",
    "\n",
    "# Display the forecast DataFrame with moving averages\n",
    "print(df_forecast.head(15))\n"
   ]
  },
  {
   "cell_type": "code",
   "execution_count": 47,
   "metadata": {},
   "outputs": [
    {
     "name": "stdout",
     "output_type": "stream",
     "text": [
      "Forecast for P003:\n",
      "2024-12-31    0.478612\n",
      "2025-01-01    0.499271\n",
      "2025-01-02    0.500163\n",
      "2025-01-03    0.500202\n",
      "2025-01-04    0.500203\n",
      "Freq: D, Name: predicted_mean, dtype: float64\n",
      "Forecast for P004:\n",
      "2024-12-31    0.507728\n",
      "2025-01-01    0.489172\n",
      "2025-01-02    0.489073\n",
      "2025-01-03    0.489072\n",
      "2025-01-04    0.489072\n",
      "Freq: D, Name: predicted_mean, dtype: float64\n",
      "Forecast for P002:\n",
      "2024-12-31    0.537473\n",
      "2025-01-01    0.545075\n",
      "2025-01-02    0.545182\n",
      "2025-01-03    0.545184\n",
      "2025-01-04    0.545184\n",
      "Freq: D, Name: predicted_mean, dtype: float64\n",
      "Forecast for P001:\n",
      "2024-12-31    0.584347\n",
      "2025-01-01    0.562263\n",
      "2025-01-02    0.563098\n",
      "2025-01-03    0.563066\n",
      "2025-01-04    0.563068\n",
      "Freq: D, Name: predicted_mean, dtype: float64\n"
     ]
    }
   ],
   "source": [
    "import statsmodels.api as sm\n",
    "\n",
    "# Function to perform ARIMA forecasting\n",
    "def arima_forecast(product_data):\n",
    "    product_data.set_index('Sale_Date', inplace=True)\n",
    "    product_data = product_data.resample('D').sum()  # Resample to daily frequency\n",
    "    product_data = product_data.fillna(0)  # Fill missing values with 0\n",
    "    model = sm.tsa.ARIMA(product_data['Quantity'], order=(1, 1, 1))  # ARIMA(1, 1, 1)\n",
    "    model_fit = model.fit()\n",
    "    forecast = model_fit.forecast(steps=30)  # Forecast the next 30 days\n",
    "    return forecast\n",
    "\n",
    "# Forecast for each product\n",
    "forecast_results = {}\n",
    "for product in Product_IDs:\n",
    "    product_data = df_forecast[df_forecast['Product_ID'] == product]\n",
    "    forecast_results[product] = arima_forecast(product_data)\n",
    "\n",
    "# Display forecast results\n",
    "for product, forecast in forecast_results.items():\n",
    "    print(f\"Forecast for {product}:\")\n",
    "    print(forecast.head())\n"
   ]
  },
  {
   "cell_type": "code",
   "execution_count": null,
   "metadata": {},
   "outputs": [],
   "source": []
  }
 ],
 "metadata": {
  "kernelspec": {
   "display_name": "Python 3",
   "language": "python",
   "name": "python3"
  },
  "language_info": {
   "codemirror_mode": {
    "name": "ipython",
    "version": 3
   },
   "file_extension": ".py",
   "mimetype": "text/x-python",
   "name": "python",
   "nbconvert_exporter": "python",
   "pygments_lexer": "ipython3",
   "version": "3.11.8"
  }
 },
 "nbformat": 4,
 "nbformat_minor": 2
}
